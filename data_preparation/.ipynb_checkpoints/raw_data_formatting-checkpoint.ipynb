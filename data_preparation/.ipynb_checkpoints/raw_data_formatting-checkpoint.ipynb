{
 "cells": [
  {
   "cell_type": "code",
   "execution_count": 1,
   "metadata": {},
   "outputs": [],
   "source": [
    "# Standard libraries\n",
    "import sys\n",
    "import math\n",
    "import random\n",
    "import time\n",
    "import os\n",
    "\n",
    "# Third-party imports\n",
    "from astropy.io import fits\n",
    "\n",
    "# Project imports\n",
    "SIMULATION_REPOSITORIES = '/home/rfradkin/Exomoon-Detection/assets/simulation_repositories/'\n",
    "sys.path.extend([os.path.join(SIMULATION_REPOSITORIES, directory) \n",
    "                     for directory in os.listdir(SIMULATION_REPOSITORIES)])\n",
    "\n",
    "import ephesos\n",
    "\n",
    "# GENERAL_UTILS = '/home/rfradkin/Exomoon-Detection/utils'\n",
    "# sys.path.append(GENERAL_UTILS)\n",
    "\n",
    "# import utils\n",
    "import prep_utils"
   ]
  },
  {
   "cell_type": "code",
   "execution_count": 2,
   "metadata": {
    "tags": []
   },
   "outputs": [],
   "source": [
    "# no read tess kepler file function anymore\n",
    "i = 0\n",
    "curves = list()\n",
    "for path in prep_utils.return_sector_paths(20):\n",
    "    curves.append(prep_utils.setup_curve(path))\n",
    "    i += 1\n",
    "    if i == 5:\n",
    "        break"
   ]
  },
  {
   "cell_type": "code",
   "execution_count": null,
   "metadata": {},
   "outputs": [],
   "source": []
  },
  {
   "cell_type": "code",
   "execution_count": null,
   "metadata": {},
   "outputs": [],
   "source": []
  },
  {
   "cell_type": "code",
   "execution_count": null,
   "metadata": {},
   "outputs": [],
   "source": [
    "ephesos functions not found:\n",
    "retr_massfromradi\n",
    "retr_radiroch\n",
    "how use eval_model func"
   ]
  }
 ],
 "metadata": {
  "kernelspec": {
   "display_name": "Python 3 (ipykernel)",
   "language": "python",
   "name": "python3"
  },
  "language_info": {
   "codemirror_mode": {
    "name": "ipython",
    "version": 3
   },
   "file_extension": ".py",
   "mimetype": "text/x-python",
   "name": "python",
   "nbconvert_exporter": "python",
   "pygments_lexer": "ipython3",
   "version": "3.11.3"
  }
 },
 "nbformat": 4,
 "nbformat_minor": 4
}
