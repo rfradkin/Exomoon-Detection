{
 "cells": [
  {
   "cell_type": "code",
   "execution_count": 4,
   "metadata": {},
   "outputs": [],
   "source": [
    "# Standard libraries\n",
    "import sys\n",
    "import math\n",
    "import random\n",
    "import time\n",
    "import os\n",
    "\n",
    "# Third-party imports\n",
    "# from astropy.io import fits\n",
    "\n",
    "# Project imports\n",
    "SIMULATION_REPOSITORIES = os.environ['HOME'] + '/Exomoon-Detection/assets/simulation_repositories/'\n",
    "sys.path.extend([os.path.join(SIMULATION_REPOSITORIES, directory) \n",
    "                     for directory in os.listdir(SIMULATION_REPOSITORIES)])\n",
    "\n",
    "import ephesos\n",
    "\n",
    "# GENERAL_UTILS = '/home/rfradkin/Exomoon-Detection/utils'\n",
    "# sys.path.append(GENERAL_UTILS)\n",
    "\n",
    "# import utils\n",
    "import prep_utils"
   ]
  },
  {
   "cell_type": "code",
   "execution_count": 5,
   "metadata": {
    "tags": []
   },
   "outputs": [],
   "source": [
    "# no read tess kepler file function anymore\n",
    "i = 0\n",
    "curves = list()\n",
    "for path in prep_utils.return_sector_paths(20):\n",
    "    curves.append(prep_utils.setup_curve(path))\n",
    "    i += 1\n",
    "    if i == 5:\n",
    "        break"
   ]
  },
  {
   "cell_type": "code",
   "execution_count": 7,
   "metadata": {},
   "outputs": [
    {
     "data": {
      "text/plain": [
       "{'injection_type': None,\n",
       " 'cut': {'times': None, 'transit': None, 'number': None, 'start_index': None},\n",
       " 'data': array([[  1842.49819237,             nan],\n",
       "        [  1842.49958125,             nan],\n",
       "        [  1842.50097012,             nan],\n",
       "        ...,\n",
       "        [  1868.81885768, 796493.75      ],\n",
       "        [  1868.82024656, 796225.25      ],\n",
       "        [  1868.82163545, 796460.9375    ]]),\n",
       " 'file_name': 'tess2019357164649-s0020-0000000383648251-0165-s_lc.fits',\n",
       " 'injection_times': None,\n",
       " 'interpolation_type': None,\n",
       " 'initial_padding': None,\n",
       " 'linear_limb_darkening_coefficient': None,\n",
       " 'model_file': None,\n",
       " 'planet': {'amplitude': None,\n",
       "  'density': None,\n",
       "  'eccentricity': None,\n",
       "  'epoch': None,\n",
       "  'inclination': None,\n",
       "  'mass': None,\n",
       "  'period': None,\n",
       "  'radius': None,\n",
       "  'sin_w': None,\n",
       "  'signal': None,\n",
       "  'signal_time': None,\n",
       "  'snr': None,\n",
       "  'transit_duration': None,\n",
       "  'magnitude': None,\n",
       "  'effective_temperature': None},\n",
       " 'moon': {'amplitude': None,\n",
       "  'density': None,\n",
       "  'eccentricity': None,\n",
       "  'epoch': None,\n",
       "  'inclination': None,\n",
       "  'mass': None,\n",
       "  'period': None,\n",
       "  'radius': None,\n",
       "  'sin_w': None,\n",
       "  'signal': None,\n",
       "  'signal_time': None,\n",
       "  'snr': None,\n",
       "  'transit_duration': None,\n",
       "  'magnitude': None,\n",
       "  'effective_temperature': None},\n",
       " 'star': {'amplitude': None,\n",
       "  'density': None,\n",
       "  'eccentricity': None,\n",
       "  'epoch': None,\n",
       "  'inclination': None,\n",
       "  'mass': None,\n",
       "  'period': None,\n",
       "  'radius': None,\n",
       "  'sin_w': None,\n",
       "  'signal': None,\n",
       "  'signal_time': None,\n",
       "  'snr': None,\n",
       "  'transit_duration': None,\n",
       "  'magnitude': None,\n",
       "  'effective_temperature': None},\n",
       " 'planet_cut_injected': None,\n",
       " 'planet_moon_cut_injected': None,\n",
       " 'prediction': None,\n",
       " 'quadratic_limb_darkening_coefficent': None,\n",
       " 'ratio_moon_planet_radius': None,\n",
       " 'ratio_moon_star_radius': None,\n",
       " 'ratio_planet_star_radius': None,\n",
       " 'raw_curve_length': None,\n",
       " 'rms': None,\n",
       " 'signal': None,\n",
       " 'snr': None,\n",
       " 'tic_id': '../assets/fits_data/sector-20/tess2019357164649-s0020-0000000383648251-0165-s_lc.fits',\n",
       " 'toi': None}"
      ]
     },
     "execution_count": 7,
     "metadata": {},
     "output_type": "execute_result"
    }
   ],
   "source": [
    "curves[0]"
   ]
  },
  {
   "cell_type": "code",
   "execution_count": 8,
   "metadata": {},
   "outputs": [],
   "source": [
    "import nicomedia"
   ]
  },
  {
   "cell_type": "code",
   "execution_count": 9,
   "metadata": {
    "tags": []
   },
   "outputs": [
    {
     "data": {
      "text/plain": [
       "<function nicomedia.main.retr_massfromradi(listradicomp, strgtype='mine', typeverb=1)>"
      ]
     },
     "execution_count": 9,
     "metadata": {},
     "output_type": "execute_result"
    }
   ],
   "source": [
    "nicomedia.retr_massfromradi\n",
    "nico.retr"
   ]
  },
  {
   "cell_type": "code",
   "execution_count": null,
   "metadata": {},
   "outputs": [],
   "source": [
    "ephesos functions not found:\n",
    "    \n",
    "retr_massfromradi : nicomedia\n",
    "retr_radiroch : nicomedia\n",
    "\n",
    "how use eval_model func"
   ]
  },
  {
   "cell_type": "code",
   "execution_count": null,
   "metadata": {},
   "outputs": [],
   "source": [
    "toi catalog (contains period and ephoch, so use that to find planetary transits)\n",
    "injection, known location and planet\n",
    "hill radius, usually 1/3, estimate from nicomedia given scale in semi major axis, convert to period\n"
   ]
  }
 ],
 "metadata": {
  "kernelspec": {
   "display_name": "Python 3 (ipykernel)",
   "language": "python",
   "name": "python3"
  },
  "language_info": {
   "codemirror_mode": {
    "name": "ipython",
    "version": 3
   },
   "file_extension": ".py",
   "mimetype": "text/x-python",
   "name": "python",
   "nbconvert_exporter": "python",
   "pygments_lexer": "ipython3",
   "version": "3.11.3"
  }
 },
 "nbformat": 4,
 "nbformat_minor": 4
}
